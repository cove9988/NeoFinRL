{
 "cells": [
  {
   "cell_type": "code",
   "execution_count": 1,
   "id": "e08ccd57-8bc9-42f2-954e-e675c61d74a9",
   "metadata": {},
   "outputs": [
    {
     "name": "stdout",
     "output_type": "stream",
     "text": [
      "initial done:\n",
      "observation_list:['Open', 'High', 'Low', 'Close', 'minute', 'hour', 'day', 'macd', 'boll_ub', 'boll_lb', 'rsi_30', 'dx_30', 'close_30_sma', 'close_60_sma']\n",
      " assets:['GBPUSD']\n",
      " time serial: 2017-01-16 00:00:00 -> 2017-01-20 23:55:00 length: 1440\n"
     ]
    }
   ],
   "source": [
    "import os\n",
    "import gym\n",
    "import numpy as np\n",
    "import pandas as pd\n",
    "\n",
    "from stable_baselines3.common.env_checker import check_env\n",
    "from stable_baselines3 import PPO, TD3\n",
    "from stable_baselines3.common.vec_env import DummyVecEnv, SubprocVecEnv,VecNormalize\n",
    "from stable_baselines3.common.env_util import make_vec_env\n",
    "from stable_baselines3.common.utils import set_random_seed\n",
    "from neo_finrl.env_fx_trading.env_fx import tgym\n",
    "\n",
    "env_name =\"TradingGym-v0\"\n",
    "env = gym.make(env_name)\n",
    "check_env(env)"
   ]
  },
  {
   "cell_type": "code",
   "execution_count": null,
   "id": "f050376e-e3f1-40e6-b700-a094b43c1cb5",
   "metadata": {},
   "outputs": [
    {
     "name": "stdout",
     "output_type": "stream",
     "text": [
      "./data/split/GBPUSD/weekly/GBPUSD_2017_0.csv\n",
      "initial done:\n",
      "observation_list:['Open', 'High', 'Low', 'Close', 'minute', 'hour', 'day', 'macd', 'boll_ub', 'boll_lb', 'rsi_30', 'dx_30', 'close_30_sma', 'close_60_sma']\n",
      " assets:['GBPUSD']\n",
      " time serial: 2017-01-02 01:00:00 -> 2017-01-06 23:55:00 length: 1428\n",
      "initial done:\n",
      "observation_list:['Open', 'High', 'Low', 'Close', 'minute', 'hour', 'day', 'macd', 'boll_ub', 'boll_lb', 'rsi_30', 'dx_30', 'close_30_sma', 'close_60_sma']\n",
      " assets:['GBPUSD']\n",
      " time serial: 2017-01-02 01:00:00 -> 2017-01-06 23:55:00 length: 1428\n",
      "initial done:\n",
      "observation_list:['Open', 'High', 'Low', 'Close', 'minute', 'hour', 'day', 'macd', 'boll_ub', 'boll_lb', 'rsi_30', 'dx_30', 'close_30_sma', 'close_60_sma']\n",
      " assets:['GBPUSD']\n",
      " time serial: 2017-01-02 01:00:00 -> 2017-01-06 23:55:00 length: 1428\n"
     ]
    }
   ],
   "source": [
    "\n",
    "env_name =\"TradingGym-v0\"\n",
    "def train(df, total_timesteps,model_name, num_cpu = 4, **policy_kwargs):\n",
    "    # num_cpu Number of processes to use\n",
    "    # Create the vectorized environment\n",
    "    # env = SubprocVecEnv([make_env(env_id, i) for i in range(num_cpu)])\n",
    "\n",
    "    # Stable Baselines provides you with make_vec_env() helper\n",
    "    # which does exactly the previous steps for you.\n",
    "    # You can choose between `DummyVecEnv` (usually faster) and `SubprocVecEnv`\n",
    "    # env = make_vec_env(t, n_envs=num_cpu, seed=0, vec_env_cls=DummyVecEnv)\n",
    "    env = DummyVecEnv([lambda: tgym(df=df) for _ in range(num_cpu)] )\n",
    "    # Automatically normalize the input features and reward\n",
    "    env = VecNormalize(env, norm_obs=True, norm_reward=True, clip_obs=10.)\n",
    "    if os.path.exists(model_name + '.zip'):\n",
    "        model = PPO.load(model_name, env=env, )\n",
    "        print(f'retaining model: {model_name}')\n",
    "        model.learn(total_timesteps=total_timesteps,**policy_kwargs)\n",
    "        model.save(model_name)\n",
    "        env.save(\"vec_normalize.pkl\")\n",
    "    else:\n",
    "        print(f'new model: {model_name}')\n",
    "        model = PPO('MlpPolicy', env=env, **policy_kwargs)\n",
    "        model.learn(total_timesteps=total_timesteps)\n",
    "        model.save(model_name)   \n",
    "\n",
    "model_name = \"ppo_fx-2017-5\"   \n",
    "for i in range(0,52): # one year 2017\n",
    "    \n",
    "    file = f\"./data/split/GBPUSD/weekly/GBPUSD_2017_{i}.csv\"\n",
    "    if os.path.isfile(file):\n",
    "        print(file)\n",
    "        df = pd.read_csv(file)\n",
    "        total_timesteps=200000\n",
    "        train(df,total_timesteps,model_name)\n",
    " "
   ]
  },
  {
   "cell_type": "code",
   "execution_count": null,
   "id": "a434fb76-08cc-420e-8758-e6163956c202",
   "metadata": {},
   "outputs": [],
   "source": [
    "\n",
    "env_name =\"TradingGym-v0\"\n",
    "def train(df, total_timesteps,model_name, num_cpu = 4, **policy_kwargs):\n",
    "    # num_cpu Number of processes to use\n",
    "    # Create the vectorized environment\n",
    "    # env = SubprocVecEnv([make_env(env_id, i) for i in range(num_cpu)])\n",
    "\n",
    "    # Stable Baselines provides you with make_vec_env() helper\n",
    "    # which does exactly the previous steps for you.\n",
    "    # You can choose between `DummyVecEnv` (usually faster) and `SubprocVecEnv`\n",
    "    # env = make_vec_env(t, n_envs=num_cpu, seed=0, vec_env_cls=DummyVecEnv)\n",
    "    env = DummyVecEnv([lambda: tgym(df=df)] )\n",
    "    \n",
    "    # Automatically normalize the input features and reward\n",
    "    env = VecNormalize(env, norm_obs=True, norm_reward=True, clip_obs=10.)\n",
    "    if os.path.exists(model_name + '.zip'):\n",
    "        model = TD3.load(model_name, env=env, **policy_kwargs)\n",
    "        print(f'retaining model: {model_name}')\n",
    "        model.learn(total_timesteps=total_timesteps)\n",
    "        model.save(model_name)\n",
    "        env.save(\"vec_normalize.pkl\")\n",
    "    else:\n",
    "        print(f'new model: {model_name}')\n",
    "        model = TD3('MlpPolicy', env=env, **policy_kwargs)\n",
    "        model.learn(total_timesteps=total_timesteps)\n",
    "        model.save(model_name)   \n",
    "        \n",
    "\n",
    "model_name = \"td3_fx-2017-5\"   \n",
    "for i in range(0,52): # one year 2017\n",
    "    \n",
    "    file = f\"./data/split/GBPUSD/weekly/GBPUSD_2017_{i}.csv\"\n",
    "    if os.path.isfile(file):\n",
    "        print(file)\n",
    "        df = pd.read_csv(file)\n",
    "        total_timesteps=200000\n",
    "        policy_kwargs ={}\n",
    "        train(df,total_timesteps,model_name, **policy_kwargs)"
   ]
  },
  {
   "cell_type": "code",
   "execution_count": null,
   "id": "51346e7e-3466-4a07-a4db-69e7e165e919",
   "metadata": {},
   "outputs": [],
   "source": []
  }
 ],
 "metadata": {
  "kernelspec": {
   "display_name": "Python 3 (ipykernel)",
   "language": "python",
   "name": "python3"
  },
  "language_info": {
   "codemirror_mode": {
    "name": "ipython",
    "version": 3
   },
   "file_extension": ".py",
   "mimetype": "text/x-python",
   "name": "python",
   "nbconvert_exporter": "python",
   "pygments_lexer": "ipython3",
   "version": "3.8.6rc1"
  }
 },
 "nbformat": 4,
 "nbformat_minor": 5
}
